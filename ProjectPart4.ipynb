{
  "nbformat": 4,
  "nbformat_minor": 0,
  "metadata": {
    "colab": {
      "provenance": []
    },
    "kernelspec": {
      "name": "python3",
      "display_name": "Python 3"
    },
    "language_info": {
      "name": "python"
    }
  },
  "cells": [
    {
      "cell_type": "markdown",
      "source": [
        "#Project Module 4: Counting\n",
        "#CPSMA 3913-01 Dr. Jacob's Discrete Mathematics\n",
        "Reed Barker"
      ],
      "metadata": {
        "id": "MjrwtGoycmtP"
      }
    },
    {
      "cell_type": "markdown",
      "source": [
        "## 1. Consider a simulation of 10 events with 20 possible outcomes.\n"
      ],
      "metadata": {
        "id": "Mk42XK_XViAD"
      }
    },
    {
      "cell_type": "markdown",
      "source": [
        "e1-e10 = 1-20 possible outcomes\n",
        "\n",
        "sim1 = { e1, e2, e3, e4, e5, e6, e7, e8, e9, e10 }\n",
        "\n",
        "sim = { 20, 20, 20, 20, 20, 20, 20, 20, 20, 20 }\n",
        "\n",
        "n = 20, k = 10"
      ],
      "metadata": {
        "id": "IN-ndWX6WYKW"
      }
    },
    {
      "cell_type": "markdown",
      "source": [
        "###(a) How many outcomes were possible in your simulation if it is considered a sequence in that particular order?"
      ],
      "metadata": {
        "id": "eRfG-aVJVmS0"
      }
    },
    {
      "cell_type": "markdown",
      "source": [
        "n<sup>k</sup>\n",
        "\n",
        "20<sup>10</sup>\n",
        "\n",
        "10,240,000,000,000\n",
        "\n",
        "10.24 Trillion"
      ],
      "metadata": {
        "id": "1e41CAAIWFj9"
      }
    },
    {
      "cell_type": "markdown",
      "source": [
        "###(b) How many outcomes were possible in your simulation if the order did not matter?"
      ],
      "metadata": {
        "id": "m2soZntnixL8"
      }
    },
    {
      "cell_type": "markdown",
      "source": [
        "${\\frac{10!}{10!(20-10)!}}$ = 184756"
      ],
      "metadata": {
        "id": "_zz7rNECpQU4"
      }
    },
    {
      "cell_type": "markdown",
      "source": [
        "###(c) How many outcomes were possible if you were not allowed to select an item multiple times. Give two answers, with order mattering and not."
      ],
      "metadata": {
        "id": "v9RlKRjBmIJf"
      }
    },
    {
      "cell_type": "markdown",
      "source": [
        "####Order matters:  \n",
        "  \n",
        "$\\frac{n!}{n^{\\underline{k}}}$  \n",
        "\n",
        "$\\frac{20!}{20^{\\underline{10}}}$  \n",
        "\n",
        "$\\frac{20!}{(20 * 19 * 18 * 17 * 16 * 15 * 14 * 13 * 12 * 11)}$  \n",
        "\n",
        "$\\frac{2.432902e+18}{670442572800}$  \n",
        "\n",
        "3,628,800 possible outcomes  "
      ],
      "metadata": {
        "id": "_HOErdWAi4Ft"
      }
    },
    {
      "cell_type": "markdown",
      "source": [
        "####Order does not matter:\n",
        "$\\frac{n!}{(n-k)! k!}$   \n",
        "\n",
        "$\\frac{n!}{(n-k)! k!}$  \n",
        "\n",
        "$\\frac{20!}{(20-10)! 10!}$  \n",
        "\n",
        "184,756 possible outcomes"
      ],
      "metadata": {
        "id": "Yw499uCcm4ub"
      }
    },
    {
      "cell_type": "markdown",
      "source": [
        "###(d) What is the coefficient of the 5th order of (x − 3)<sup>9</sup>?"
      ],
      "metadata": {
        "id": "nvCUMm6CsVNF"
      }
    },
    {
      "cell_type": "markdown",
      "source": [
        "####(x − y)<sup>9</sup> Coefficients (as per Pascal's Triangle):  \n",
        "1, 9, 36, 84, 126, 126, 84, 36, 9, 1  \n",
        "\n",
        "Can also be found with:  \n",
        "$\\left( _k^n \\right)$  \n",
        "where  \n",
        "$\\left( _0^9 \\right)$, $\\left( _1^9 \\right)$, $\\left( _2^9 \\right)$, ... , $\\left( _9^9 \\right)$\n",
        "\n",
        "\n",
        "####Set of 3<sup>0-9</sup> (explained below):  \n",
        "1, 3, 9, 27, 81, 243, 729, 2187, 6561, 19683  \n",
        "\n",
        "\n",
        "####(x − y)<sup>9</sup> Pascal's Triangle coefficients multiplied by the set of 3<sup>0-9</sup> to find the coefficients of (x − 3)<sup>9</sup>:  \n",
        "1, 27, 324, 2268, 10206, 30618, 78732, 59049, 19683   \n",
        "\n",
        "\n",
        "---\n",
        "\n",
        "\n",
        "####Finally, with a calculator, we can verify that the coefficients of (x − 3)<sup>9</sup> are:  \n",
        "1, 27, 324, 2268, 10206, 30618, 78732, 59049, 19683\n",
        "\n",
        "\n",
        "---\n",
        "\n",
        "\n",
        "####Set of 3<sup>0-9</sup> math:  \n",
        "(x − 3)<sup>0</sup> = 1  \n",
        "(x − 3)<sup>1</sup> = x + 3  \n",
        "(x − 3)<sup>2</sup> = x<sup>2</sup> - 6x + 9  \n",
        "(x − 3)<sup>3</sup> = x<sup>3</sup> - 9x<sup>2</sup> + 27x - 27  \n",
        "(x − 3)<sup>4</sup> = x<sup>4</sup> - 12x<sup>3</sup> + 54x<sup>2</sup> - 108x + 81\n",
        "\n",
        "####If we take the last coefficients of (x − 3)<sup>2</sup>, (x − 3)<sup>3</sup>, (x − 3)<sup>4</sup>, ..., (x − 3)<sup>9</sup> we get the following set:  \n",
        "1, 3, 9, 27, 81, 243, 729, 2187, 6561, 19683"
      ],
      "metadata": {
        "id": "P2_er9-PC_oa"
      }
    },
    {
      "cell_type": "markdown",
      "source": [
        "## 2. Be sure to comment on the following:"
      ],
      "metadata": {
        "id": "HuYzbqrbM6FG"
      }
    },
    {
      "cell_type": "markdown",
      "source": [
        "###(a) Describe your findings in words."
      ],
      "metadata": {
        "id": "htMUbHgdNGmG"
      }
    },
    {
      "cell_type": "markdown",
      "source": [
        "I found the relationship between $\\left( _k^n \\right)$  and Pascal's Triangle to be very interesting, especially with the relationship between (x − y)<sup>9</sup> and (x − 3)<sup>9</sup>"
      ],
      "metadata": {
        "id": "QESqOpX2QJVo"
      }
    },
    {
      "cell_type": "markdown",
      "source": [
        "###(b) If you were unable to code something discuss what the difficulty was and why doing it by hand was easier."
      ],
      "metadata": {
        "id": "DNvojWCVThpI"
      }
    },
    {
      "cell_type": "markdown",
      "source": [
        "I found that I didn't need to do any coding for this project because the equasions used for finding the answers to 1(a)-1(d), can be done with a simple calculator."
      ],
      "metadata": {
        "id": "A7x6NhqWTpR9"
      }
    },
    {
      "cell_type": "markdown",
      "source": [
        "###(c) Why are all these outcomes different?"
      ],
      "metadata": {
        "id": "dai2jgCMUVvl"
      }
    },
    {
      "cell_type": "markdown",
      "source": [
        "All of the outcomes are different because we are trying to ask different questions that use different equasions to solve. For example, if we wanted to look for the yes or no conditions of: Does order matter, are duplicates allowed? Once we have the answers to these questions, we can assign a formula like below.\n",
        "\n",
        "|   | Duplicates allowed? Yes | Duplicates allowed? No |\n",
        "| --- | --- | --- |\n",
        "| Does order matter? Yes | n<sup>k</sup> | $\\frac{n!}{n^{\\underline{k}}}$ |\n",
        "| Does order matter? No |  | $\\frac{n!}{(n-k)! k!}$    |\n",
        "\n"
      ],
      "metadata": {
        "id": "UhbC0wIEUgiu"
      }
    }
  ]
}
