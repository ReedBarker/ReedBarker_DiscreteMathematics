{
  "nbformat": 4,
  "nbformat_minor": 0,
  "metadata": {
    "colab": {
      "provenance": []
    },
    "kernelspec": {
      "name": "python3",
      "display_name": "Python 3"
    },
    "language_info": {
      "name": "python"
    }
  },
  "cells": [
    {
      "cell_type": "markdown",
      "source": [
        "#Project Module 7: Logic\n",
        "#CPSMA 3913-01 Dr. Jacob's Discrete Mathematics\n",
        "Reed Barker"
      ],
      "metadata": {
        "id": "2tOPFVNXYfry"
      }
    },
    {
      "cell_type": "markdown",
      "source": [
        "##1. Create a truth table"
      ],
      "metadata": {
        "id": "PEC_yY3XsCHR"
      }
    },
    {
      "cell_type": "markdown",
      "source": [
        "###(a) Create three propositions. I will describe them as p, r and q but you should use the name to describe the proposition! Discuss the truth value of each of these and decide on one that makes sense for you."
      ],
      "metadata": {
        "id": "sAUJezepsE42"
      }
    },
    {
      "cell_type": "markdown",
      "source": [
        "p: It is sunny outside  \n",
        "r: I am wearing a t-shirt  \n",
        "q: I am carrying an apple  \n",
        "\n",
        "p is true if it is currently sunny outside  \n",
        "r is true if I am wearing a t-shirt  \n",
        "q is true if I am carrying an apple  "
      ],
      "metadata": {
        "id": "eAzMCKMZsMOy"
      }
    },
    {
      "cell_type": "markdown",
      "source": [
        "###(b) Compute the truth of the statement r ∧ p, r ∨ ¬q and r ⇒ p."
      ],
      "metadata": {
        "id": "HvPpkgPNsho5"
      }
    },
    {
      "cell_type": "markdown",
      "source": [
        "r ∧ p (r and p): True if both r=true p=true. The statement is true if it's sunny outside and I am carrying an apple.  \n",
        "\n",
        "r ∨ ¬q (r or not q): True if r=true or !q=true. The statement is true if I am carrying an apple or I am not wearing a t-shirt.  \n",
        "\n",
        "r ⇒ p (r implies p): True if only r=false, or if r=true and p=true. The statement is true if I am not carrying an apple, or it's sunny and I'm also carrying an apple."
      ],
      "metadata": {
        "id": "uLxOaCoqsk8B"
      }
    },
    {
      "cell_type": "markdown",
      "source": [
        "###(c) Compute a complete truth table for ¬ (r ⊕ p) ⇒ (p ∨ q)"
      ],
      "metadata": {
        "id": "VWT8gcYDslZY"
      }
    },
    {
      "cell_type": "markdown",
      "source": [
        "| p | r | q | r ⊕ p | ¬(r ⊕ p) | p ∨ q | ¬(r ⊕ p) ⇒ (p ∨ q) |\n",
        "|---|------|------|------|------|------|------|\n",
        "| T | T | T | F | T | T | T |\n",
        "| T | T | F | F | T | T | T |\n",
        "| T | F | T | T | F | T | T |\n",
        "| T | F | F | T | F | T | T |\n",
        "| F | T | T | T | F | T | T |\n",
        "| F | T | F | T | F | F | T |\n",
        "| F | F | T | F | T | T | T |\n",
        "| F | F | F | F | T | F | F |"
      ],
      "metadata": {
        "id": "m8kkCx36WDC7"
      }
    },
    {
      "cell_type": "markdown",
      "source": [
        "##2. Be sure to comment on the following:\n",
        "###(a) Describe your findings in words.\n",
        "I found that I didn't have much of a hard time with this chapter. The tables made a lot of sense to me and I had a fun time running through it."
      ],
      "metadata": {
        "id": "tIvumS04ssxm"
      }
    }
  ]
}
