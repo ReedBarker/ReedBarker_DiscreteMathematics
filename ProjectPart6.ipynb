{
  "nbformat": 4,
  "nbformat_minor": 0,
  "metadata": {
    "colab": {
      "provenance": []
    },
    "kernelspec": {
      "name": "python3",
      "display_name": "Python 3"
    },
    "language_info": {
      "name": "python"
    }
  },
  "cells": [
    {
      "cell_type": "markdown",
      "source": [
        "#Project Module 6: Numbers\n",
        "#CPSMA 3913-01 Dr. Jacob's Discrete Mathematics\n",
        "Reed Barker"
      ],
      "metadata": {
        "id": "nMCFjRUIfm2I"
      }
    },
    {
      "cell_type": "markdown",
      "source": [
        "##1. Compute using modulo arithmetic"
      ],
      "metadata": {
        "id": "co9VjuIqfdCM"
      }
    },
    {
      "cell_type": "markdown",
      "source": [
        "####Background:\n",
        "\n",
        "In any base system, we have a ones place, a tens place, a hundreds place, a thousands place, and so on. The simplest way to explain bases and base conversion is to break down base ten because we deal with it daily. \n",
        "\n",
        "The test number we will look at is one thousand four hundred thirty five, which is expressed as 1435 in base ten, or 1435<sub>10</sub>. \n",
        "\n",
        "We can break down 1435<sub>10</sub> to look like:  \n",
        "1 - thousands place  \n",
        "4 - hundreds place  \n",
        "3 - tens place  \n",
        "5 - ones place  \n",
        "\n",
        "If we multiplied **five** by **one** we would get **five**  \n",
        "If we multiplied **three** by **ten** we would get **thirty**  \n",
        "If we multiplied **four** by **one hundred** we would get **four hundred**  \n",
        "If we multiplied **one** by **one thousand**, we would get **one thousand**  \n",
        "\n",
        "The multipliers in this example increase by a power of ten for each place\n",
        "\n",
        "10<sup>0</sup> &rarr; 10<sup>1</sup> &rarr; 10<sup>2</sup> &rarr; 10<sup>3</sup>\n",
        "\n",
        "We can multiply the digit place by the associated power of the base, and then add all the results together.\n",
        "\n",
        "(10<sup>3</sup> * 1) + (10<sup>2</sup> * 4) + (10<sup>1</sup> * 3) + (10<sup>0</sup> * 5)  \n",
        "(1,000 * 1) + (100 * 4) + (10 * 3) + (1 * 5)  \n",
        "1,000 + 400+ 30 + 5  \n",
        "1,435\n",
        "\n",
        "Finally, we can apply this to other numbers and bases by changing the power, as shown below."
      ],
      "metadata": {
        "id": "u7_SruBJf0QR"
      }
    },
    {
      "cell_type": "markdown",
      "source": [
        "###(a) Convert the number 24036<sub>7</sub> into base ten."
      ],
      "metadata": {
        "id": "cl3D_RuJfhsL"
      }
    },
    {
      "cell_type": "markdown",
      "source": [
        "(2 * 7<sup>4</sup>) +\n",
        "(4 * 7<sup>3</sup>) +\n",
        "(0 * 7<sup>2</sup>) +\n",
        "(3 * 7<sup>1</sup>) +\n",
        "(6 * 7<sup>0</sup>)"
      ],
      "metadata": {
        "id": "g91epZxKmFLl"
      }
    },
    {
      "cell_type": "code",
      "source": [
        "#under decimal to decimal\n",
        "integer = \"24036\"\n",
        "base = 7\n",
        "val = 0\n",
        "\n",
        "#display the math\n",
        "print(\"Math:\", end=\"\")\n",
        "for i in range(len(integer)-1, -1, -1):\n",
        "  if i > 0:\n",
        "    print(' ({0} * {1}^{2}) '.format(integer[-i-1], base, i), end=\"+\")\n",
        "  else: \n",
        "    print(' ({0} * {1}^{2})'.format(integer[-i-1], base, i))\n",
        "\n",
        "  #the actual math\n",
        "  val += int(integer[-i-1]) * pow(base,i)\n",
        "\n",
        "print(\"Converted value:\", val)"
      ],
      "metadata": {
        "colab": {
          "base_uri": "https://localhost:8080/"
        },
        "id": "qNtssYV9m_62",
        "outputId": "03a07216-2c3e-4536-b298-ecfd1da012d3"
      },
      "execution_count": 178,
      "outputs": [
        {
          "output_type": "stream",
          "name": "stdout",
          "text": [
            "Math: (2 * 7^4) + (4 * 7^3) + (0 * 7^2) + (3 * 7^1) + (6 * 7^0)\n",
            "Converted value: 6201\n"
          ]
        }
      ]
    },
    {
      "cell_type": "markdown",
      "source": [
        "### (b) Convert the hexadecimal number 72e3 or 0x72e3 into base ten."
      ],
      "metadata": {
        "id": "3Wm0jv-kIAx8"
      }
    },
    {
      "cell_type": "markdown",
      "source": [
        "(7 * 16<sup>3</sup>) +\n",
        "(2 * 16<sup>2</sup>) +\n",
        "(e * 16<sup>1</sup>) +\n",
        "(3 * 16<sup>0</sup>)"
      ],
      "metadata": {
        "id": "i_dLE7cRIWiL"
      }
    },
    {
      "cell_type": "code",
      "source": [
        "#hex to decimal\n",
        "integer = \"72e3\"\n",
        "base = 10\n",
        "list = []\n",
        "aplt = len(integer)\n",
        "val = 0\n",
        "\n",
        "print(\"Math:\", end=\"\")\n",
        "for i in range(len(integer)):\n",
        "  if aplt-1 >= 1:\n",
        "    print(' ({0} * {1}^{2}) '.format(integer[i], base, aplt-1), end=\"+\")\n",
        "  else: \n",
        "    print(' ({0} * {1}^{2})'.format(integer[i], base, aplt-1))\n",
        "\n",
        "  if integer[i] == 'a':\n",
        "    list.append('10')\n",
        "  elif integer[i] == 'b':\n",
        "    list.append('11')\n",
        "  elif integer[i] == 'c':\n",
        "    list.append('12')\n",
        "  elif integer[i] == 'd':\n",
        "    list.append('13')\n",
        "  elif integer[i] == 'e':\n",
        "    list.append('14')\n",
        "  elif integer[i] == 'f':\n",
        "    list.append('15')\n",
        "  else:\n",
        "    list.append(integer[i])\n",
        "\n",
        "  aplt -= 1\n",
        "\n",
        "  val += int(list[i]) * pow(base,aplt)\n",
        "\n",
        "print(\"Decimal:\", val)"
      ],
      "metadata": {
        "colab": {
          "base_uri": "https://localhost:8080/"
        },
        "id": "NHPdQz1wIlpt",
        "outputId": "ca77d80d-0f3f-4ee4-ced2-d96b419cc07a"
      },
      "execution_count": 181,
      "outputs": [
        {
          "output_type": "stream",
          "name": "stdout",
          "text": [
            "Math: (7 * 10^3) + (2 * 10^2) + (e * 10^1) + (3 * 10^0)\n",
            "Decimal: 7343\n"
          ]
        }
      ]
    },
    {
      "cell_type": "markdown",
      "source": [
        "###(c) Convert 3735928559 into hexadecimal."
      ],
      "metadata": {
        "id": "r9frDQR_OMeG"
      }
    },
    {
      "cell_type": "code",
      "source": [
        "integer = 3735928559\n",
        "toBase = 16\n",
        "list = []\n",
        "\n",
        "def rec(tempInt):\n",
        "  mod = tempInt % toBase\n",
        "  if mod > 0:\n",
        "    list.append(mod)\n",
        "\n",
        "  if tempInt > 1:\n",
        "    div = int(tempInt / toBase)\n",
        "    #print(div)\n",
        "    rec(div)\n",
        "\n",
        "rec(integer)\n",
        "list.reverse()\n",
        "\n",
        "print(\"Hex: \", end=\"\")\n",
        "\n",
        "for i in range(len(list)):\n",
        "  list[i] = str(list[i])\n",
        "  if list[i] == '10':\n",
        "    list[i] = list[i].replace(\"10\", \"a\")\n",
        "  if list[i] == '11':\n",
        "    list[i] = list[i].replace(\"11\", \"b\")\n",
        "  if list[i] == '12':\n",
        "    list[i] = list[i].replace(\"12\", \"c\")\n",
        "  if list[i] == '13':\n",
        "    list[i] = list[i].replace(\"13\", \"d\")\n",
        "  if list[i] == '14':\n",
        "    list[i] = list[i].replace(\"14\", \"e\")\n",
        "  if list[i] == '15':\n",
        "    list[i] = list[i].replace(\"15\", \"f\")\n",
        "\n",
        "  print(list[i], end=\"\")\n"
      ],
      "metadata": {
        "colab": {
          "base_uri": "https://localhost:8080/"
        },
        "id": "phlEOldZOTxO",
        "outputId": "e0c3474a-3690-423e-98f9-0c9963a9c7c2"
      },
      "execution_count": null,
      "outputs": [
        {
          "output_type": "stream",
          "name": "stdout",
          "text": [
            "Hex: deadbeef"
          ]
        }
      ]
    },
    {
      "cell_type": "markdown",
      "source": [
        "###(d) Using two’s complement preform the base ten subtraction 25 − 37. Check your answer"
      ],
      "metadata": {
        "id": "2naFbhVjVchq"
      }
    },
    {
      "cell_type": "code",
      "source": [
        "integer = 25\n",
        "subtractBy = 37\n",
        "\n",
        "integerBinaryList = []\n",
        "subtractByBinaryList = []\n",
        "resultList = []\n",
        "\n",
        "def convertToBinary(tempInt, tempList):   # recursive function that converts from decimal to binary and then adds zeros to the beginning of the binary (for simpler programming)\n",
        "  mod = tempInt % 2 #2 because it converts to binary\n",
        "  tempList.append(mod)\n",
        "\n",
        "  if tempInt >= 1:\n",
        "    div = int(tempInt / 2) #2 because it converts to binary\n",
        "    convertToBinary(div, tempList) # recursive call\n",
        "\n",
        "  if len(tempList) < 8: #adds zeros at the beginning to make it a larger bit for simpler programming - add more or increase value for larger bits\n",
        "    while len(tempList) != 8:\n",
        "      tempList.append(0)\n",
        "  elif len(tempList) < 16 and len(tempList) > 8:\n",
        "    while len(tempList) != 16:\n",
        "      tempList.append(0)\n",
        "\n",
        "  return tempList\n",
        "\n",
        "def flip1sAnd0s(tempListA):   #flips the 1s and the 0s of the binary list given and then returns the flipped list\n",
        "  tempListB = []\n",
        "  for i in range(len(tempListA)):\n",
        "    if tempListA[i] == 1:\n",
        "      tempListB.append(0)\n",
        "    if tempListA[i] == 0:\n",
        "      tempListB.append(1)\n",
        "  return tempListB\n",
        "\n",
        "def addOne(tempList):   # adds a value of one to the binary list given and then returns the list\n",
        "  addResult = 0\n",
        "  carryOver = 1\n",
        "  tempListA = []\n",
        "\n",
        "  for i in range(len(tempList)):\n",
        "    addResult = tempList[i] + carryOver   # adds the list given to the carryover and runs through each element as if you are doing normal addition by hand, the addOne() function has a starting carryover of 1 to replicate the effect of adding 1\n",
        "    if addResult == 0:\n",
        "      tempListA.append(0)\n",
        "      carryOver = 0\n",
        "    if addResult == 1:\n",
        "      tempListA.append(1)\n",
        "      carryOver = 0\n",
        "    if addResult == 2:\n",
        "      tempListA.append(0)\n",
        "      carryOver = 1\n",
        "    if addResult == 3:\n",
        "      tempListA.append(1)\n",
        "      carryOver = 1\n",
        "  return tempListA\n",
        "\n",
        "def addTwoNumbers(list1, list2):    # works just like addOne(), but instead of adding just the origional list plus the carryOver, it adds the first binary list plus the second binary list plus the carryOver as if you are doing normal addition by hand\n",
        "  addResult = 0\n",
        "  carryOver = 0\n",
        "  tempListA = []\n",
        "\n",
        "  for i in range(len(list1)):\n",
        "    addResult = list1[i] + list2[i] + carryOver\n",
        "    if addResult == 0:\n",
        "      tempListA.append(0)\n",
        "      carryOver = 0\n",
        "    if addResult == 1:\n",
        "      tempListA.append(1)\n",
        "      carryOver = 0\n",
        "    if addResult == 2:\n",
        "      tempListA.append(0)\n",
        "      carryOver = 1\n",
        "    if addResult == 3:\n",
        "      tempListA.append(1)\n",
        "      carryOver = 1\n",
        "  return tempListA\n",
        "\n",
        "\n",
        "integerBinaryList = convertToBinary(integer, integerBinaryList) #list.reverse() for it to be correct binary\n",
        "subtractByBinaryList = convertToBinary(subtractBy, subtractByBinaryList) #list.reverse() for it to be correct binary\n",
        "\n",
        "print(\"{0} converted to binary {1} (is actually {2}, but reversed for programming simplicity)\" .format(integer, integerBinaryList, ''.join([str(elem) for elem in integerBinaryList[::-1]])))\n",
        "print(\"{0} converted to binary {1} (is actually {2}, but reversed for programming simplicity)\" .format(subtractBy, subtractByBinaryList, ''.join([str(elem) for elem in subtractByBinaryList[::-1]])))\n",
        "\n",
        "print()\n",
        "\n",
        "subtractByBinaryList = flip1sAnd0s(subtractByBinaryList) #convert from positive to negative number (a - b) -> (a + -b)\n",
        "print(\"\\\"subtractBy\\\" Flip 1s and 0s\", subtractByBinaryList)\n",
        "\n",
        "print()\n",
        "\n",
        "if subtractBy < integer:    # if the result happens to be positive\n",
        "  print(\"The result is positive, so:\")\n",
        "  subtractByBinaryList = addOne(subtractByBinaryList)\n",
        "  print(\"Add one to the list (list is reversed so add to the left side):\", subtractByBinaryList)\n",
        "  print()\n",
        "  print(\" {0}   <- this is reversed so imagine carrying values from left to right\\n+{1}   <- this is reversed so imagine carrying values from left to right\\n--------------------------\" .format(integerBinaryList, subtractByBinaryList))\n",
        "  resultList = addTwoNumbers(integerBinaryList, subtractByBinaryList)\n",
        "  print(\"\", resultList)\n",
        "  resultList.reverse()\n",
        "\n",
        "  print()\n",
        "  print(\"Reverse the above results\")\n",
        "\n",
        "elif subtractBy > integer:    # if the result happens to be negative\n",
        "  print(\"The result is negative, so:\")\n",
        "  print(\" {0}   <- this is reversed so imagine carrying values from left to right\\n+{1}   <- this is reversed so imagine carrying values from left to right\\n--------------------------\" .format(integerBinaryList, subtractByBinaryList))\n",
        "  resultList = addTwoNumbers(integerBinaryList, subtractByBinaryList)\n",
        "  print(\"\", resultList)\n",
        "  \n",
        "  resultList.reverse()\n",
        "  resultList = flip1sAnd0s(resultList)\n",
        "\n",
        "  print()\n",
        "  print(\"Reverse the above results and flip 1s and 0s\")\n",
        "\n",
        "else:   # if the result happens to be zero\n",
        "  print(\"The result is zero, so:\")\n",
        "  print(\" {0}\\n+{1}\\n--------------------------\" .format(integerBinaryList, subtractByBinaryList))\n",
        "  resultList = addTwoNumbers(integerBinaryList, subtractByBinaryList)\n",
        "  print(\"\", resultList)\n",
        "  \n",
        "  resultList.reverse()\n",
        "  resultList = flip1sAnd0s(resultList)\n",
        "\n",
        "  print()\n",
        "  print(\"Reverse the above results and flip 1s and 0s\")\n",
        "\n",
        "print(resultList)\n",
        "resultBinaryInt = ''.join([str(elem) for elem in resultList])\n",
        "\n",
        "decimal = 0\n",
        "\n",
        "#Binary to decimal converter from the first problem\n",
        "for i in range(len(resultBinaryInt)-1, -1, -1):\n",
        "\n",
        "  decimal += int(resultBinaryInt[-i-1]) * pow(2,i)\n",
        "\n",
        "print(\"Magintude of\", resultBinaryInt, \"=\", decimal)\n",
        "\n",
        "if subtractBy > integer:  # if the result happens to be negative\n",
        "  decimal *= -1\n",
        "  resultBinaryInt = \"1\" + resultBinaryInt[1:]\n",
        "  print(\"Actual value\", resultBinaryInt, \"=\", decimal, \"(1 at the beginning because it is now a negative)\")\n",
        "else:\n",
        "  print(\"Actual value\", resultBinaryInt, \"=\", decimal)\n",
        "\n",
        "\n"
      ],
      "metadata": {
        "id": "4MuDcHeJOGZL",
        "outputId": "05a72ef3-b756-4283-80e1-63b9bc5cc970",
        "colab": {
          "base_uri": "https://localhost:8080/"
        }
      },
      "execution_count": null,
      "outputs": [
        {
          "output_type": "stream",
          "name": "stdout",
          "text": [
            "25 converted to binary [1, 0, 0, 1, 1, 0, 0, 0] (is actually 00011001, but reversed for programming simplicity)\n",
            "37 converted to binary [1, 0, 1, 0, 0, 1, 0, 0] (is actually 00100101, but reversed for programming simplicity)\n",
            "\n",
            "\"subtractBy\" Flip 1s and 0s [0, 1, 0, 1, 1, 0, 1, 1]\n",
            "\n",
            "The result is negative, so:\n",
            " [1, 0, 0, 1, 1, 0, 0, 0]   <- this is reversed so imagine carrying values from left to right\n",
            "+[0, 1, 0, 1, 1, 0, 1, 1]   <- this is reversed so imagine carrying values from left to right\n",
            "--------------------------\n",
            " [1, 1, 0, 0, 1, 1, 1, 1]\n",
            "\n",
            "Reverse the above results and flip 1s and 0s\n",
            "[0, 0, 0, 0, 1, 1, 0, 0]\n",
            "Magintude of 00001100 = 12\n",
            "Actual value 10001100 = -12 (1 at the beginning because it is now a negative)\n"
          ]
        }
      ]
    },
    {
      "cell_type": "markdown",
      "source": [
        "##2. Be sure to comment on the following:\n",
        "###(a) Describe your findings in words.\n",
        "Creating a two's complement subtraction program is tricky but feels cool to have made it now that it is complete. I had the most challenging time with the two's converter because of the carrying-over portions. Other than that,  I carried out the others with less difficulty.\n",
        "###(b) Discuss why binary and hexadecimal are important to computers.\n",
        "Binary is essential to computers because a central processing unit is an array of transistors that are either on (1) or off (0). With crazy programming magic, we can create the computer in front of us with these 1s and 0s. Hexadecimal is important because you can express a huge number with fewer digits than compared to decimal."
      ],
      "metadata": {
        "id": "tOtyyNC4vnJZ"
      }
    }
  ]
}
