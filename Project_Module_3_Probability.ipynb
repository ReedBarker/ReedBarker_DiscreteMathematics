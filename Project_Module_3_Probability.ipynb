{
  "nbformat": 4,
  "nbformat_minor": 0,
  "metadata": {
    "colab": {
      "provenance": []
    },
    "kernelspec": {
      "name": "python3",
      "display_name": "Python 3"
    },
    "language_info": {
      "name": "python"
    }
  },
  "cells": [
    {
      "cell_type": "markdown",
      "source": [
        "#CPSMA 3913-01 Discrete Mathematics\n",
        "##Project Module 3: Probability\n",
        "Reed Barker"
      ],
      "metadata": {
        "id": "uAoyljWOgfjo"
      }
    },
    {
      "cell_type": "code",
      "source": [
        "import os\n",
        "import random"
      ],
      "metadata": {
        "id": "nTkTWlTqBDXR"
      },
      "execution_count": 31,
      "outputs": []
    },
    {
      "cell_type": "code",
      "source": [
        "sample_space = [] # [ SongBird, PineTree, BerryBush, AppleTree, Bear, Tuna, PoisionFrog ]\n",
        "Animals = [] # [ SongBird, Bear, Tuna, PoisionFrog ]\n",
        "Food = [] # [ SongBird, BerryBush, AppleTree, Tuna ]\n",
        "\n",
        "SongBird = 0.2\n",
        "PineTree = 0.5\n",
        "BerryBush = 0.1\n",
        "AppleTree = 0.05\n",
        "Bear = 0.02\n",
        "Tuna = 0.129\n",
        "PoisionFrog = 0.001"
      ],
      "metadata": {
        "id": "ajz-nevmALfx"
      },
      "execution_count": 40,
      "outputs": []
    },
    {
      "cell_type": "markdown",
      "source": [
        "Let teleportation be normal circumstance. What is the probability that a bear was randomly teleported from one location and landed ontop of a tasty tuna?"
      ],
      "metadata": {
        "id": "06KfiAIZdtHT"
      }
    },
    {
      "cell_type": "code",
      "source": [
        "location = Bear * Tuna  #the bear location and tuna location are independent from each other so we multiply the values\n",
        "\n",
        "print(\"P(Location)\" + \" = \" + str(location))\n",
        "\n"
      ],
      "metadata": {
        "colab": {
          "base_uri": "https://localhost:8080/"
        },
        "id": "PF2r95tsdpTp",
        "outputId": "02d0d08a-7de9-4119-cd23-a08fa69a3d18"
      },
      "execution_count": 48,
      "outputs": [
        {
          "output_type": "stream",
          "name": "stdout",
          "text": [
            "P(Location) = 0.0025800000000000003\n"
          ]
        }
      ]
    },
    {
      "cell_type": "markdown",
      "source": [
        "What is the probability that a berry bush is being eaten by a male bird?"
      ],
      "metadata": {
        "id": "E72rdwCOevp7"
      }
    },
    {
      "cell_type": "code",
      "source": [
        "# P(Male) = (Male|Berry * Berry) + (Male|NoBerry*Berry)\n",
        "# 0.15 are the amount of birds that are currently not eating and 0.6 are currently not eating berries\n",
        "pMale = (0.15*BerryBush)+(0.6*BerryBush)\n",
        "\n",
        "print(pMale)"
      ],
      "metadata": {
        "colab": {
          "base_uri": "https://localhost:8080/"
        },
        "id": "4YB5i3KNe1Vi",
        "outputId": "ded1e06a-fad3-4cd8-93ec-57112a8a6477"
      },
      "execution_count": 49,
      "outputs": [
        {
          "output_type": "stream",
          "name": "stdout",
          "text": [
            "0.075\n"
          ]
        }
      ]
    },
    {
      "cell_type": "markdown",
      "source": [
        "What is the probability that a non toxic animal could get eaten?"
      ],
      "metadata": {
        "id": "DPDEf8rnfYAD"
      }
    },
    {
      "cell_type": "code",
      "source": [
        "# Animals = [ SongBird, Bear, Tuna, PoisionFrog ]\n",
        "# Food = [ SongBird, BerryBush, AppleTree, Tuna ]\n",
        "# P(Animals|Food) = P(Animals ∩ Food) /\tP(Food)\n",
        "\n",
        "pAniFood = (SongBird + Tuna) / (SongBird + BerryBush + AppleTree + Tuna)\n",
        "print(pAniFood)"
      ],
      "metadata": {
        "colab": {
          "base_uri": "https://localhost:8080/"
        },
        "id": "lEfMOhlRfcWJ",
        "outputId": "4790d2ee-db3c-4774-c6aa-9984f4b2b87b"
      },
      "execution_count": 51,
      "outputs": [
        {
          "output_type": "stream",
          "name": "stdout",
          "text": [
            "0.6868475991649269\n"
          ]
        }
      ]
    },
    {
      "cell_type": "markdown",
      "source": [
        "#Simulation"
      ],
      "metadata": {
        "id": "zvKEyhbjgYnC"
      }
    },
    {
      "cell_type": "code",
      "source": [
        "birdCount = 0\n",
        "pineCount = 0\n",
        "berryCount = 0\n",
        "appleCount = 0\n",
        "bearCount = 0\n",
        "tunaCount = 0\n",
        "frogCount = 0\n",
        "\n",
        "loops = 1000\n",
        "\n",
        "for i in range(loops):\n",
        "  # Seed the generator with a truly random source\n",
        "  random.seed(os.urandom(32))\n",
        "\n",
        "  # Generate a random number between 0 and 1\n",
        "  true_random_number = random.random()\n",
        "  \n",
        "  if true_random_number <= SongBird:\n",
        "    sample_space.append(\"SongBird\")\n",
        "    birdCount += 1\n",
        "  if true_random_number <= PineTree:\n",
        "    sample_space.append(\"pineCount\")\n",
        "    pineCount += 1\n",
        "  if true_random_number <= BerryBush:\n",
        "    sample_space.append(\"berryCount\")\n",
        "    berryCount += 1\n",
        "  if true_random_number <= AppleTree:\n",
        "    sample_space.append(\"appleCount\")\n",
        "    appleCount += 1\n",
        "  if true_random_number <= Bear:\n",
        "    sample_space.append(\"bearCount\")\n",
        "    bearCount += 1\n",
        "  if true_random_number <= Tuna:\n",
        "    sample_space.append(\"tunaCount\")\n",
        "    tunaCount += 1\n",
        "  if true_random_number <= PoisionFrog:\n",
        "    sample_space.append(\"frogCount\")\n",
        "    frogCount += 1\n",
        "\n",
        "\n",
        "\n",
        "\n",
        "print(sample_space)\n",
        "print(\"birdCount\" + \" | \" + \"pineCount\" + \" | \" + \"berryCount\" + \" | \" + \"appleCount\" + \" | \" + \"bearCount\" + \" | \" + \"tunaCount\" + \" | \" + \"frogCount\")\n",
        "print(str(birdCount) + \" | \" + str(pineCount) + \" | \" + str(berryCount) + \" | \" + str(appleCount) + \" | \" + str(bearCount) + \" | \" + str(tunaCount) + \" | \" + str(frogCount))\n",
        "print(str(birdCount/loops) + \" | \" + str(pineCount/loops) + \" | \" + str(berryCount/loops) + \" | \" + str(appleCount/loops) + \" | \" + str(bearCount/loops) + \" | \" + str(tunaCount/loops) + \" | \" + str(frogCount/loops))\n",
        "\n",
        "\n"
      ],
      "metadata": {
        "colab": {
          "base_uri": "https://localhost:8080/"
        },
        "id": "UgsCqcrfBSRS",
        "outputId": "70cf1c2a-2374-48b2-9e19-15fb31dbd2ce"
      },
      "execution_count": 42,
      "outputs": [
        {
          "output_type": "stream",
          "name": "stdout",
          "text": [
            "['pineCount', 'pineCount', 'pineCount', 'pineCount', 'SongBird', 'pineCount', 'berryCount', 'appleCount', 'tunaCount', 'pineCount', 'SongBird', 'pineCount', 'pineCount', 'pineCount', 'pineCount', 'SongBird', 'pineCount', 'pineCount', 'SongBird', 'pineCount', 'berryCount', 'tunaCount', 'pineCount', 'pineCount', 'pineCount', 'SongBird', 'pineCount', 'berryCount', 'tunaCount', 'pineCount', 'SongBird', 'pineCount', 'SongBird', 'pineCount', 'berryCount', 'appleCount', 'bearCount', 'tunaCount', 'SongBird', 'pineCount', 'pineCount', 'pineCount', 'pineCount', 'pineCount', 'pineCount', 'pineCount', 'SongBird', 'pineCount', 'berryCount', 'appleCount', 'bearCount', 'tunaCount', 'pineCount', 'SongBird', 'pineCount', 'berryCount', 'tunaCount', 'pineCount', 'pineCount', 'pineCount', 'pineCount', 'pineCount', 'pineCount', 'pineCount', 'pineCount', 'SongBird', 'pineCount', 'berryCount', 'appleCount', 'tunaCount', 'pineCount', 'SongBird', 'pineCount', 'berryCount', 'appleCount', 'bearCount', 'tunaCount', 'SongBird', 'pineCount', 'SongBird', 'pineCount', 'berryCount', 'tunaCount', 'pineCount', 'pineCount', 'pineCount', 'SongBird', 'pineCount', 'berryCount', 'appleCount', 'bearCount', 'tunaCount', 'SongBird', 'pineCount', 'pineCount', 'pineCount', 'SongBird', 'pineCount', 'berryCount', 'appleCount', 'tunaCount', 'SongBird', 'pineCount', 'pineCount', 'SongBird', 'pineCount', 'SongBird', 'pineCount', 'pineCount', 'SongBird', 'pineCount', 'pineCount', 'pineCount', 'pineCount', 'SongBird', 'pineCount', 'berryCount', 'appleCount', 'bearCount', 'tunaCount', 'pineCount', 'pineCount', 'SongBird', 'pineCount', 'berryCount', 'appleCount', 'tunaCount', 'pineCount', 'SongBird', 'pineCount', 'pineCount', 'SongBird', 'pineCount', 'pineCount', 'SongBird', 'pineCount', 'berryCount', 'tunaCount', 'pineCount', 'SongBird', 'pineCount', 'tunaCount', 'pineCount', 'pineCount', 'pineCount', 'SongBird', 'pineCount', 'SongBird', 'pineCount', 'pineCount', 'SongBird', 'pineCount', 'berryCount', 'tunaCount', 'SongBird', 'pineCount', 'berryCount', 'appleCount', 'tunaCount', 'pineCount', 'pineCount', 'SongBird', 'pineCount', 'SongBird', 'pineCount', 'SongBird', 'pineCount', 'berryCount', 'appleCount', 'tunaCount', 'pineCount', 'pineCount', 'pineCount', 'pineCount', 'SongBird', 'pineCount', 'pineCount', 'SongBird', 'pineCount', 'berryCount', 'tunaCount', 'pineCount', 'pineCount', 'pineCount', 'pineCount', 'SongBird', 'pineCount', 'berryCount', 'appleCount', 'bearCount', 'tunaCount', 'pineCount', 'pineCount', 'SongBird', 'pineCount', 'berryCount', 'tunaCount', 'SongBird', 'pineCount', 'berryCount', 'tunaCount', 'pineCount', 'pineCount', 'pineCount', 'pineCount', 'SongBird', 'pineCount', 'berryCount', 'tunaCount', 'pineCount', 'SongBird', 'pineCount', 'tunaCount', 'pineCount', 'pineCount', 'pineCount', 'pineCount', 'pineCount', 'pineCount', 'pineCount', 'pineCount', 'SongBird', 'pineCount', 'berryCount', 'appleCount', 'bearCount', 'tunaCount', 'pineCount', 'pineCount', 'pineCount', 'pineCount', 'pineCount', 'SongBird', 'pineCount', 'berryCount', 'tunaCount', 'pineCount', 'SongBird', 'pineCount', 'pineCount', 'pineCount', 'pineCount', 'SongBird', 'pineCount', 'berryCount', 'appleCount', 'tunaCount', 'pineCount', 'SongBird', 'pineCount', 'tunaCount', 'pineCount', 'pineCount', 'pineCount', 'SongBird', 'pineCount', 'berryCount', 'appleCount', 'tunaCount', 'pineCount', 'SongBird', 'pineCount', 'berryCount', 'appleCount', 'bearCount', 'tunaCount', 'SongBird', 'pineCount', 'tunaCount', 'pineCount', 'pineCount', 'pineCount', 'pineCount', 'SongBird', 'pineCount', 'berryCount', 'appleCount', 'bearCount', 'tunaCount', 'pineCount', 'SongBird', 'pineCount', 'pineCount', 'SongBird', 'pineCount', 'berryCount', 'appleCount', 'bearCount', 'tunaCount', 'SongBird', 'pineCount', 'SongBird', 'pineCount', 'berryCount', 'tunaCount', 'SongBird', 'pineCount', 'berryCount', 'appleCount', 'bearCount', 'tunaCount', 'pineCount', 'SongBird', 'pineCount', 'pineCount', 'pineCount', 'pineCount', 'SongBird', 'pineCount', 'SongBird', 'pineCount', 'berryCount', 'tunaCount', 'SongBird', 'pineCount', 'berryCount', 'tunaCount', 'SongBird', 'pineCount', 'SongBird', 'pineCount', 'berryCount', 'tunaCount', 'pineCount', 'pineCount', 'pineCount', 'pineCount', 'pineCount', 'pineCount', 'pineCount', 'pineCount', 'SongBird', 'pineCount', 'SongBird', 'pineCount', 'berryCount', 'tunaCount', 'SongBird', 'pineCount', 'berryCount', 'tunaCount', 'SongBird', 'pineCount', 'SongBird', 'pineCount', 'berryCount', 'appleCount', 'bearCount', 'tunaCount', 'pineCount', 'SongBird', 'pineCount', 'berryCount', 'tunaCount', 'pineCount', 'pineCount', 'SongBird', 'pineCount', 'berryCount', 'tunaCount', 'pineCount', 'pineCount', 'pineCount', 'pineCount', 'SongBird', 'pineCount', 'tunaCount', 'pineCount', 'SongBird', 'pineCount', 'berryCount', 'appleCount', 'tunaCount', 'pineCount', 'SongBird', 'pineCount', 'SongBird', 'pineCount', 'tunaCount', 'pineCount', 'SongBird', 'pineCount', 'pineCount', 'pineCount', 'SongBird', 'pineCount', 'berryCount', 'tunaCount', 'pineCount', 'pineCount', 'pineCount', 'pineCount', 'pineCount', 'SongBird', 'pineCount', 'berryCount', 'tunaCount', 'pineCount', 'pineCount', 'pineCount', 'SongBird', 'pineCount', 'SongBird', 'pineCount', 'berryCount', 'tunaCount', 'pineCount', 'pineCount', 'pineCount', 'pineCount', 'SongBird', 'pineCount', 'berryCount', 'appleCount', 'tunaCount', 'pineCount', 'pineCount', 'pineCount', 'SongBird', 'pineCount', 'berryCount', 'appleCount', 'tunaCount', 'SongBird', 'pineCount', 'berryCount', 'appleCount', 'bearCount', 'tunaCount', 'frogCount', 'pineCount', 'SongBird', 'pineCount', 'pineCount', 'pineCount', 'SongBird', 'pineCount', 'pineCount', 'pineCount', 'SongBird', 'pineCount', 'pineCount', 'SongBird', 'pineCount', 'pineCount', 'pineCount', 'pineCount', 'pineCount', 'SongBird', 'pineCount', 'tunaCount', 'pineCount', 'pineCount', 'pineCount', 'pineCount', 'SongBird', 'pineCount', 'berryCount', 'tunaCount', 'pineCount', 'pineCount', 'pineCount', 'SongBird', 'pineCount', 'pineCount', 'pineCount', 'pineCount', 'SongBird', 'pineCount', 'berryCount', 'tunaCount', 'pineCount', 'pineCount', 'pineCount', 'SongBird', 'pineCount', 'berryCount', 'tunaCount', 'pineCount', 'pineCount', 'SongBird', 'pineCount', 'pineCount', 'pineCount', 'pineCount', 'pineCount', 'SongBird', 'pineCount', 'berryCount', 'appleCount', 'tunaCount', 'SongBird', 'pineCount', 'berryCount', 'appleCount', 'tunaCount', 'pineCount', 'pineCount', 'pineCount', 'pineCount', 'SongBird', 'pineCount', 'berryCount', 'tunaCount', 'pineCount', 'SongBird', 'pineCount', 'berryCount', 'appleCount', 'bearCount', 'tunaCount', 'SongBird', 'pineCount', 'berryCount', 'appleCount', 'tunaCount', 'pineCount', 'SongBird', 'pineCount', 'berryCount', 'appleCount', 'tunaCount', 'pineCount', 'pineCount', 'SongBird', 'pineCount', 'pineCount', 'pineCount', 'pineCount', 'SongBird', 'pineCount', 'tunaCount', 'pineCount', 'SongBird', 'pineCount', 'berryCount', 'tunaCount', 'SongBird', 'pineCount', 'pineCount', 'SongBird', 'pineCount', 'SongBird', 'pineCount', 'berryCount', 'tunaCount', 'pineCount', 'pineCount', 'SongBird', 'pineCount', 'berryCount', 'appleCount', 'tunaCount', 'SongBird', 'pineCount', 'berryCount', 'appleCount', 'tunaCount', 'pineCount', 'pineCount', 'SongBird', 'pineCount', 'SongBird', 'pineCount', 'SongBird', 'pineCount', 'pineCount', 'SongBird', 'pineCount', 'pineCount', 'pineCount', 'SongBird', 'pineCount', 'berryCount', 'appleCount', 'bearCount', 'tunaCount', 'pineCount', 'pineCount', 'SongBird', 'pineCount', 'berryCount', 'appleCount', 'bearCount', 'tunaCount', 'SongBird', 'pineCount', 'SongBird', 'pineCount', 'SongBird', 'pineCount', 'pineCount', 'SongBird', 'pineCount', 'berryCount', 'appleCount', 'tunaCount', 'SongBird', 'pineCount', 'tunaCount', 'SongBird', 'pineCount', 'berryCount', 'appleCount', 'tunaCount', 'pineCount', 'pineCount', 'pineCount', 'SongBird', 'pineCount', 'berryCount', 'appleCount', 'tunaCount', 'SongBird', 'pineCount', 'berryCount', 'tunaCount', 'SongBird', 'pineCount', 'berryCount', 'tunaCount', 'pineCount', 'SongBird', 'pineCount', 'berryCount', 'appleCount', 'bearCount', 'tunaCount', 'pineCount', 'SongBird', 'pineCount', 'berryCount', 'appleCount', 'bearCount', 'tunaCount', 'frogCount', 'SongBird', 'pineCount', 'berryCount', 'tunaCount', 'pineCount', 'pineCount', 'pineCount', 'pineCount', 'SongBird', 'pineCount', 'berryCount', 'tunaCount', 'SongBird', 'pineCount', 'berryCount', 'appleCount', 'bearCount', 'tunaCount', 'SongBird', 'pineCount', 'berryCount', 'tunaCount', 'SongBird', 'pineCount', 'tunaCount', 'SongBird', 'pineCount', 'berryCount', 'appleCount', 'bearCount', 'tunaCount', 'SongBird', 'pineCount', 'pineCount', 'pineCount', 'pineCount', 'pineCount', 'pineCount', 'SongBird', 'pineCount', 'tunaCount', 'pineCount', 'SongBird', 'pineCount', 'tunaCount', 'SongBird', 'pineCount', 'pineCount', 'SongBird', 'pineCount', 'tunaCount', 'pineCount', 'SongBird', 'pineCount', 'berryCount', 'appleCount', 'bearCount', 'tunaCount', 'pineCount', 'SongBird', 'pineCount', 'berryCount', 'tunaCount', 'pineCount', 'pineCount', 'SongBird', 'pineCount', 'berryCount', 'appleCount', 'tunaCount', 'SongBird', 'pineCount', 'tunaCount', 'SongBird', 'pineCount', 'berryCount', 'tunaCount', 'pineCount', 'SongBird', 'pineCount', 'pineCount', 'pineCount', 'pineCount', 'SongBird', 'pineCount', 'pineCount', 'pineCount', 'pineCount', 'SongBird', 'pineCount', 'pineCount', 'pineCount', 'SongBird', 'pineCount', 'berryCount', 'appleCount', 'bearCount', 'tunaCount', 'SongBird', 'pineCount', 'berryCount', 'appleCount', 'tunaCount', 'pineCount', 'pineCount', 'pineCount', 'SongBird', 'pineCount', 'berryCount', 'appleCount', 'bearCount', 'tunaCount', 'SongBird', 'pineCount', 'pineCount', 'pineCount', 'pineCount', 'SongBird', 'pineCount', 'pineCount', 'pineCount', 'SongBird', 'pineCount', 'berryCount', 'tunaCount', 'pineCount', 'pineCount', 'SongBird', 'pineCount', 'berryCount', 'appleCount', 'tunaCount', 'SongBird', 'pineCount', 'berryCount', 'tunaCount', 'pineCount', 'pineCount', 'pineCount', 'pineCount', 'SongBird', 'pineCount', 'berryCount', 'appleCount', 'bearCount', 'tunaCount', 'pineCount', 'pineCount', 'pineCount', 'pineCount', 'SongBird', 'pineCount', 'berryCount', 'tunaCount', 'SongBird', 'pineCount', 'berryCount', 'tunaCount', 'pineCount', 'pineCount', 'pineCount', 'SongBird', 'pineCount', 'SongBird', 'pineCount', 'SongBird', 'pineCount', 'tunaCount', 'SongBird', 'pineCount', 'SongBird', 'pineCount', 'berryCount', 'tunaCount', 'SongBird', 'pineCount', 'berryCount', 'tunaCount', 'pineCount', 'SongBird', 'pineCount', 'pineCount', 'pineCount', 'SongBird', 'pineCount', 'SongBird', 'pineCount', 'tunaCount', 'pineCount', 'pineCount', 'pineCount', 'pineCount', 'pineCount', 'pineCount', 'pineCount', 'pineCount', 'pineCount', 'SongBird', 'pineCount', 'SongBird', 'pineCount', 'berryCount', 'appleCount', 'tunaCount', 'SongBird', 'pineCount', 'SongBird', 'pineCount', 'berryCount', 'appleCount', 'bearCount', 'tunaCount', 'pineCount', 'SongBird', 'pineCount', 'tunaCount', 'pineCount', 'pineCount', 'pineCount', 'pineCount', 'pineCount', 'pineCount', 'pineCount', 'pineCount', 'pineCount', 'pineCount', 'pineCount', 'SongBird', 'pineCount', 'berryCount', 'appleCount', 'tunaCount', 'SongBird', 'pineCount', 'SongBird', 'pineCount', 'pineCount', 'pineCount', 'SongBird', 'pineCount', 'berryCount', 'appleCount', 'tunaCount', 'pineCount', 'SongBird', 'pineCount', 'berryCount', 'appleCount', 'tunaCount', 'pineCount', 'pineCount', 'pineCount', 'pineCount', 'SongBird', 'pineCount', 'berryCount', 'appleCount', 'tunaCount', 'SongBird', 'pineCount', 'pineCount', 'SongBird', 'pineCount', 'SongBird', 'pineCount', 'SongBird', 'pineCount', 'berryCount', 'tunaCount', 'pineCount', 'pineCount', 'SongBird', 'pineCount', 'pineCount', 'SongBird', 'pineCount', 'SongBird', 'pineCount', 'pineCount', 'SongBird', 'pineCount', 'SongBird', 'pineCount', 'pineCount', 'SongBird', 'pineCount', 'tunaCount', 'pineCount', 'SongBird', 'pineCount', 'pineCount', 'SongBird', 'pineCount', 'berryCount', 'tunaCount', 'pineCount', 'pineCount', 'SongBird', 'pineCount', 'berryCount', 'appleCount', 'bearCount', 'tunaCount', 'SongBird', 'pineCount', 'pineCount', 'SongBird', 'pineCount', 'pineCount', 'SongBird', 'pineCount', 'berryCount', 'appleCount', 'bearCount', 'tunaCount', 'SongBird', 'pineCount', 'pineCount', 'pineCount', 'pineCount', 'pineCount', 'pineCount', 'SongBird', 'pineCount', 'berryCount', 'tunaCount', 'pineCount', 'SongBird', 'pineCount', 'tunaCount', 'pineCount', 'pineCount', 'pineCount', 'pineCount', 'SongBird', 'pineCount', 'pineCount', 'pineCount', 'pineCount', 'pineCount', 'pineCount', 'SongBird', 'pineCount', 'berryCount', 'tunaCount', 'SongBird', 'pineCount', 'tunaCount', 'SongBird', 'pineCount', 'berryCount', 'appleCount', 'tunaCount', 'SongBird', 'pineCount', 'berryCount', 'appleCount', 'tunaCount', 'pineCount', 'SongBird', 'pineCount', 'berryCount', 'tunaCount', 'SongBird', 'pineCount', 'berryCount', 'appleCount', 'tunaCount', 'SongBird', 'pineCount', 'berryCount', 'tunaCount', 'SongBird', 'pineCount', 'pineCount', 'pineCount', 'SongBird', 'pineCount', 'tunaCount', 'pineCount', 'pineCount', 'pineCount', 'SongBird', 'pineCount', 'pineCount', 'pineCount', 'SongBird', 'pineCount', 'berryCount', 'tunaCount', 'SongBird', 'pineCount', 'tunaCount', 'pineCount', 'pineCount', 'pineCount', 'SongBird', 'pineCount', 'berryCount', 'appleCount', 'bearCount', 'tunaCount', 'SongBird', 'pineCount', 'pineCount', 'pineCount', 'pineCount', 'pineCount', 'pineCount', 'pineCount', 'pineCount', 'SongBird', 'pineCount', 'berryCount', 'tunaCount', 'pineCount', 'pineCount', 'pineCount', 'pineCount', 'pineCount', 'pineCount', 'SongBird', 'pineCount', 'berryCount', 'tunaCount', 'SongBird', 'pineCount', 'pineCount', 'pineCount', 'SongBird', 'pineCount', 'berryCount', 'appleCount', 'tunaCount', 'SongBird', 'pineCount', 'tunaCount', 'pineCount', 'SongBird', 'pineCount', 'berryCount', 'appleCount', 'tunaCount', 'SongBird', 'pineCount', 'tunaCount', 'pineCount', 'pineCount', 'pineCount', 'pineCount', 'SongBird', 'pineCount', 'berryCount', 'appleCount', 'tunaCount', 'pineCount', 'pineCount', 'pineCount', 'SongBird', 'pineCount', 'berryCount', 'appleCount', 'bearCount', 'tunaCount', 'SongBird', 'pineCount', 'pineCount', 'pineCount', 'pineCount', 'SongBird', 'pineCount', 'pineCount', 'pineCount', 'pineCount', 'pineCount', 'pineCount', 'pineCount', 'pineCount', 'pineCount', 'SongBird', 'pineCount', 'berryCount', 'appleCount', 'bearCount', 'tunaCount', 'SongBird', 'pineCount', 'pineCount', 'pineCount', 'pineCount', 'SongBird', 'pineCount', 'tunaCount', 'SongBird', 'pineCount', 'berryCount', 'tunaCount', 'SongBird', 'pineCount', 'berryCount', 'tunaCount', 'pineCount', 'pineCount', 'pineCount', 'pineCount', 'pineCount', 'pineCount', 'pineCount', 'pineCount', 'pineCount', 'pineCount', 'SongBird', 'pineCount', 'berryCount', 'tunaCount', 'pineCount', 'SongBird', 'pineCount', 'berryCount', 'tunaCount', 'pineCount', 'SongBird', 'pineCount', 'SongBird', 'pineCount', 'pineCount', 'SongBird', 'pineCount', 'SongBird', 'pineCount', 'berryCount', 'appleCount', 'bearCount', 'tunaCount', 'pineCount', 'SongBird', 'pineCount', 'tunaCount', 'SongBird', 'pineCount', 'berryCount', 'appleCount', 'bearCount', 'tunaCount', 'SongBird', 'pineCount', 'pineCount', 'SongBird', 'pineCount', 'tunaCount', 'pineCount', 'pineCount', 'SongBird', 'pineCount', 'tunaCount', 'SongBird', 'pineCount', 'berryCount', 'tunaCount', 'pineCount', 'SongBird', 'pineCount', 'berryCount', 'tunaCount', 'pineCount', 'pineCount', 'SongBird', 'pineCount', 'pineCount', 'SongBird', 'pineCount', 'berryCount', 'tunaCount', 'pineCount', 'SongBird', 'pineCount', 'berryCount', 'appleCount', 'tunaCount', 'pineCount', 'pineCount', 'pineCount', 'pineCount', 'SongBird', 'pineCount', 'SongBird', 'pineCount', 'berryCount', 'tunaCount', 'pineCount', 'SongBird', 'pineCount', 'pineCount', 'pineCount', 'pineCount', 'pineCount', 'pineCount', 'pineCount', 'pineCount', 'pineCount', 'SongBird', 'pineCount', 'berryCount', 'appleCount', 'tunaCount', 'SongBird', 'pineCount', 'pineCount', 'pineCount', 'SongBird', 'pineCount', 'berryCount', 'tunaCount', 'pineCount', 'SongBird', 'pineCount', 'pineCount', 'pineCount', 'pineCount', 'SongBird', 'pineCount', 'berryCount', 'appleCount', 'tunaCount', 'SongBird', 'pineCount', 'berryCount', 'appleCount', 'bearCount', 'tunaCount', 'pineCount', 'SongBird', 'pineCount', 'berryCount', 'tunaCount', 'pineCount', 'pineCount', 'SongBird', 'pineCount', 'pineCount', 'pineCount', 'pineCount', 'pineCount', 'SongBird', 'pineCount', 'SongBird', 'pineCount', 'pineCount', 'pineCount', 'SongBird', 'pineCount', 'berryCount', 'tunaCount', 'SongBird', 'pineCount', 'tunaCount', 'SongBird', 'pineCount', 'pineCount', 'pineCount', 'SongBird', 'pineCount', 'SongBird', 'pineCount', 'berryCount', 'appleCount', 'tunaCount', 'SongBird', 'pineCount', 'berryCount', 'tunaCount', 'pineCount', 'pineCount', 'SongBird', 'pineCount', 'tunaCount', 'pineCount', 'pineCount', 'pineCount', 'SongBird', 'pineCount', 'pineCount', 'SongBird', 'pineCount', 'tunaCount', 'SongBird', 'pineCount', 'berryCount', 'appleCount', 'bearCount', 'tunaCount', 'SongBird', 'pineCount', 'pineCount', 'SongBird', 'pineCount', 'pineCount', 'SongBird', 'pineCount', 'tunaCount', 'SongBird', 'pineCount', 'SongBird', 'pineCount', 'berryCount', 'appleCount', 'tunaCount', 'SongBird', 'pineCount', 'pineCount', 'pineCount', 'pineCount', 'pineCount', 'SongBird', 'pineCount', 'pineCount', 'SongBird', 'pineCount', 'berryCount', 'tunaCount', 'pineCount', 'pineCount', 'SongBird', 'pineCount', 'pineCount', 'pineCount', 'pineCount', 'pineCount', 'pineCount', 'SongBird', 'pineCount', 'pineCount', 'pineCount', 'SongBird', 'pineCount', 'berryCount', 'appleCount', 'tunaCount', 'pineCount', 'SongBird', 'pineCount', 'berryCount', 'appleCount', 'tunaCount', 'pineCount', 'SongBird', 'pineCount', 'berryCount', 'tunaCount', 'SongBird', 'pineCount', 'berryCount', 'appleCount', 'tunaCount', 'pineCount', 'pineCount', 'pineCount', 'pineCount', 'pineCount', 'pineCount', 'pineCount', 'pineCount', 'pineCount', 'pineCount', 'pineCount', 'SongBird', 'pineCount', 'pineCount', 'pineCount', 'SongBird', 'pineCount', 'berryCount', 'appleCount', 'bearCount', 'tunaCount', 'pineCount', 'SongBird', 'pineCount', 'tunaCount', 'pineCount', 'pineCount', 'pineCount', 'pineCount', 'pineCount', 'SongBird', 'pineCount', 'SongBird', 'pineCount', 'pineCount', 'pineCount', 'pineCount', 'SongBird', 'pineCount', 'SongBird', 'pineCount', 'SongBird', 'pineCount', 'berryCount', 'tunaCount', 'SongBird', 'pineCount', 'berryCount', 'appleCount', 'tunaCount', 'SongBird', 'pineCount', 'berryCount', 'tunaCount', 'SongBird', 'pineCount', 'berryCount', 'appleCount', 'tunaCount', 'pineCount', 'SongBird', 'pineCount', 'SongBird', 'pineCount', 'berryCount', 'tunaCount', 'pineCount', 'SongBird', 'pineCount', 'berryCount', 'tunaCount', 'SongBird', 'pineCount', 'pineCount', 'pineCount', 'SongBird', 'pineCount', 'tunaCount', 'pineCount', 'pineCount', 'pineCount', 'SongBird', 'pineCount', 'tunaCount', 'pineCount', 'SongBird', 'pineCount', 'berryCount', 'appleCount', 'tunaCount', 'pineCount', 'pineCount', 'pineCount', 'SongBird', 'pineCount', 'pineCount', 'SongBird', 'pineCount', 'berryCount', 'appleCount', 'tunaCount', 'SongBird', 'pineCount', 'berryCount', 'tunaCount', 'pineCount', 'pineCount', 'pineCount', 'SongBird', 'pineCount', 'berryCount', 'appleCount', 'bearCount', 'tunaCount', 'pineCount', 'pineCount', 'SongBird', 'pineCount', 'pineCount', 'pineCount', 'SongBird', 'pineCount', 'tunaCount', 'SongBird', 'pineCount', 'SongBird', 'pineCount', 'berryCount', 'appleCount', 'tunaCount', 'pineCount', 'pineCount', 'SongBird', 'pineCount', 'tunaCount', 'pineCount', 'pineCount', 'SongBird', 'pineCount', 'tunaCount', 'pineCount', 'pineCount', 'pineCount', 'pineCount', 'SongBird', 'pineCount', 'pineCount', 'SongBird', 'pineCount', 'tunaCount', 'SongBird', 'pineCount', 'berryCount', 'appleCount', 'tunaCount', 'SongBird', 'pineCount', 'SongBird', 'pineCount', 'berryCount', 'tunaCount', 'SongBird', 'pineCount', 'SongBird', 'pineCount', 'pineCount', 'pineCount', 'pineCount', 'SongBird', 'pineCount', 'berryCount', 'tunaCount', 'SongBird', 'pineCount', 'pineCount', 'SongBird', 'pineCount', 'berryCount', 'appleCount', 'bearCount', 'tunaCount', 'pineCount', 'pineCount', 'SongBird', 'pineCount', 'tunaCount', 'pineCount', 'pineCount', 'pineCount', 'pineCount', 'SongBird', 'pineCount', 'berryCount', 'appleCount', 'tunaCount', 'SongBird', 'pineCount', 'berryCount', 'appleCount', 'tunaCount', 'pineCount', 'SongBird', 'pineCount', 'pineCount', 'pineCount', 'SongBird', 'pineCount', 'pineCount', 'pineCount', 'SongBird', 'pineCount', 'pineCount', 'pineCount', 'pineCount', 'SongBird', 'pineCount', 'tunaCount', 'SongBird', 'pineCount', 'berryCount', 'tunaCount', 'pineCount', 'pineCount', 'SongBird', 'pineCount', 'berryCount', 'appleCount', 'bearCount', 'tunaCount', 'pineCount', 'SongBird', 'pineCount', 'berryCount', 'appleCount', 'bearCount', 'tunaCount', 'pineCount', 'SongBird', 'pineCount', 'berryCount', 'tunaCount', 'pineCount', 'pineCount', 'SongBird', 'pineCount', 'berryCount', 'tunaCount', 'pineCount', 'pineCount', 'SongBird', 'pineCount', 'berryCount', 'tunaCount', 'pineCount', 'pineCount', 'pineCount', 'SongBird', 'pineCount', 'tunaCount', 'pineCount', 'pineCount', 'SongBird', 'pineCount', 'pineCount', 'pineCount', 'SongBird', 'pineCount', 'berryCount', 'appleCount', 'tunaCount', 'SongBird', 'pineCount', 'SongBird', 'pineCount', 'berryCount', 'appleCount', 'tunaCount', 'SongBird', 'pineCount', 'pineCount', 'pineCount', 'pineCount', 'pineCount', 'pineCount', 'pineCount', 'pineCount', 'SongBird', 'pineCount', 'tunaCount', 'pineCount', 'SongBird', 'pineCount', 'berryCount', 'tunaCount', 'pineCount', 'pineCount', 'SongBird', 'pineCount', 'berryCount', 'tunaCount', 'pineCount', 'SongBird', 'pineCount', 'tunaCount', 'pineCount', 'pineCount', 'pineCount', 'SongBird', 'pineCount', 'pineCount', 'pineCount', 'SongBird', 'pineCount', 'SongBird', 'pineCount', 'berryCount', 'appleCount', 'bearCount', 'tunaCount', 'pineCount', 'pineCount', 'SongBird', 'pineCount', 'berryCount', 'appleCount', 'tunaCount', 'SongBird', 'pineCount', 'berryCount', 'appleCount', 'bearCount', 'tunaCount', 'SongBird', 'pineCount', 'pineCount', 'pineCount', 'pineCount', 'pineCount', 'pineCount', 'SongBird', 'pineCount', 'tunaCount', 'pineCount', 'pineCount', 'SongBird', 'pineCount', 'berryCount', 'appleCount', 'bearCount', 'tunaCount', 'pineCount', 'pineCount', 'pineCount', 'SongBird', 'pineCount', 'berryCount', 'appleCount', 'tunaCount', 'pineCount', 'pineCount', 'SongBird', 'pineCount', 'pineCount', 'pineCount', 'pineCount', 'pineCount', 'SongBird', 'pineCount', 'berryCount', 'tunaCount', 'SongBird', 'pineCount', 'berryCount', 'appleCount', 'bearCount', 'tunaCount', 'pineCount', 'pineCount', 'SongBird', 'pineCount', 'berryCount', 'appleCount', 'tunaCount', 'pineCount', 'pineCount', 'SongBird', 'pineCount', 'berryCount', 'tunaCount', 'pineCount', 'pineCount', 'pineCount', 'pineCount', 'pineCount', 'SongBird', 'pineCount', 'berryCount', 'appleCount', 'tunaCount', 'pineCount', 'pineCount', 'SongBird', 'pineCount', 'berryCount', 'appleCount', 'bearCount', 'tunaCount', 'pineCount', 'pineCount', 'pineCount', 'SongBird', 'pineCount', 'SongBird', 'pineCount', 'berryCount', 'appleCount', 'tunaCount', 'pineCount', 'pineCount', 'pineCount', 'pineCount', 'pineCount', 'SongBird', 'pineCount', 'berryCount', 'appleCount', 'tunaCount', 'SongBird', 'pineCount', 'SongBird', 'pineCount', 'tunaCount', 'pineCount', 'SongBird', 'pineCount', 'tunaCount', 'pineCount', 'SongBird', 'pineCount', 'berryCount', 'appleCount', 'bearCount', 'tunaCount', 'frogCount', 'pineCount', 'pineCount', 'SongBird', 'pineCount', 'berryCount', 'tunaCount', 'SongBird', 'pineCount', 'berryCount', 'appleCount', 'bearCount', 'tunaCount', 'pineCount', 'SongBird', 'pineCount', 'berryCount', 'tunaCount', 'SongBird', 'pineCount', 'berryCount', 'appleCount', 'bearCount', 'tunaCount', 'pineCount', 'pineCount', 'pineCount', 'pineCount', 'pineCount', 'SongBird', 'pineCount', 'berryCount', 'appleCount', 'bearCount', 'tunaCount', 'pineCount', 'pineCount', 'SongBird', 'pineCount', 'pineCount', 'pineCount', 'SongBird', 'pineCount', 'berryCount', 'tunaCount', 'pineCount', 'pineCount', 'SongBird', 'pineCount', 'berryCount', 'appleCount', 'tunaCount', 'SongBird', 'pineCount', 'berryCount', 'appleCount', 'tunaCount', 'pineCount', 'pineCount', 'pineCount', 'pineCount', 'SongBird', 'pineCount', 'berryCount', 'appleCount', 'bearCount', 'tunaCount', 'SongBird', 'pineCount', 'berryCount', 'tunaCount', 'pineCount', 'pineCount', 'SongBird', 'pineCount', 'tunaCount', 'pineCount', 'pineCount', 'SongBird', 'pineCount', 'pineCount', 'pineCount', 'pineCount', 'pineCount', 'SongBird', 'pineCount', 'tunaCount', 'pineCount', 'pineCount', 'SongBird', 'pineCount', 'SongBird', 'pineCount', 'SongBird', 'pineCount', 'tunaCount', 'SongBird', 'pineCount', 'SongBird', 'pineCount', 'pineCount', 'pineCount', 'pineCount', 'SongBird', 'pineCount', 'berryCount', 'tunaCount', 'SongBird', 'pineCount', 'berryCount', 'tunaCount', 'pineCount', 'SongBird', 'pineCount', 'tunaCount', 'pineCount', 'pineCount', 'SongBird', 'pineCount', 'berryCount', 'tunaCount', 'pineCount', 'pineCount', 'pineCount', 'SongBird', 'pineCount', 'SongBird', 'pineCount', 'tunaCount', 'SongBird', 'pineCount', 'berryCount', 'tunaCount', 'SongBird', 'pineCount', 'berryCount', 'tunaCount', 'pineCount', 'pineCount', 'SongBird', 'pineCount', 'berryCount', 'appleCount', 'tunaCount', 'pineCount', 'pineCount', 'pineCount', 'SongBird', 'pineCount', 'SongBird', 'pineCount', 'SongBird', 'pineCount', 'SongBird', 'pineCount', 'tunaCount', 'pineCount', 'SongBird', 'pineCount', 'berryCount', 'appleCount', 'tunaCount', 'pineCount', 'pineCount', 'SongBird', 'pineCount', 'berryCount', 'tunaCount', 'SongBird', 'pineCount', 'berryCount', 'tunaCount', 'SongBird', 'pineCount', 'tunaCount']\n",
            "birdCount | pineCount | berryCount | appleCount | bearCount | tunaCount | frogCount\n",
            "195 | 501 | 96 | 53 | 22 | 130 | 1\n",
            "0.195 | 0.501 | 0.096 | 0.053 | 0.022 | 0.13 | 0.001\n"
          ]
        }
      ]
    },
    {
      "cell_type": "markdown",
      "source": [
        "The simulation gives me the exact probability for my assignment. The simulation uses a random number generator and then runs those numbers through many if statements that say \"if randomNumber <= probability then increase count by 1 and append element.\""
      ],
      "metadata": {
        "id": "vXz1mVcsg9MT"
      }
    },
    {
      "cell_type": "markdown",
      "source": [
        "#2."
      ],
      "metadata": {
        "id": "OLwmaiuWhh4u"
      }
    },
    {
      "cell_type": "markdown",
      "source": [
        "a) I had found out that by reading and watching the videos I was going to have an easy time with this assignment but it was really difficult to start the problems and get the formulas in order. I definately need to practice them more."
      ],
      "metadata": {
        "id": "n0MTcSHxhkmt"
      }
    },
    {
      "cell_type": "markdown",
      "source": [
        "b) I have a lot of experience with arrays so the coding in python portion was not difficult this time."
      ],
      "metadata": {
        "id": "SdlEEm-xh4j7"
      }
    },
    {
      "cell_type": "markdown",
      "source": [
        "c) The ideal sample space could have nice numbers that are divisible by 5 or are even that could make calculation much easier than a simulation that makes each number odd or even or prime."
      ],
      "metadata": {
        "id": "ki2wmiPgiKOW"
      }
    }
  ]
}