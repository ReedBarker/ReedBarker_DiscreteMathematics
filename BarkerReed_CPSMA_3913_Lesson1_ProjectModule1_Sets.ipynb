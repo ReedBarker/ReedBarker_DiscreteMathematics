{
  "nbformat": 4,
  "nbformat_minor": 0,
  "metadata": {
    "colab": {
      "provenance": []
    },
    "kernelspec": {
      "name": "python3",
      "display_name": "Python 3"
    },
    "language_info": {
      "name": "python"
    }
  },
  "cells": [
    {
      "cell_type": "markdown",
      "source": [
        "# Project Module 1: Sets\n",
        "# CPSMA-3913 Dr. Jacob's Discrete Mathematics\n",
        "# Reed Barker 0284968"
      ],
      "metadata": {
        "id": "JyddAz3Vwwb_"
      }
    },
    {
      "cell_type": "markdown",
      "source": [
        "#Build and manipulate some sets using a programming language."
      ],
      "metadata": {
        "id": "mSXFAmjamEeK"
      }
    },
    {
      "cell_type": "markdown",
      "source": [
        "(a) Build 3 different sets that contain at least 5 elements each. Name the sets with something\n",
        "descriptive but I will refer to them as A, B, and C for the remainder of this assignment (you\n",
        "should use something else if you want full marks for clean code!)."
      ],
      "metadata": {
        "id": "ql-CbejwmNPv"
      }
    },
    {
      "cell_type": "code",
      "source": [
        "SetA = {1,2,3,4,5}\n",
        "SetB = {5,6,7,8,9}\n",
        "SetC = {9,10,11,12,13}"
      ],
      "metadata": {
        "id": "uyRqX_UtheIz"
      },
      "execution_count": null,
      "outputs": []
    },
    {
      "cell_type": "markdown",
      "source": [
        "(b) Create a Universal, U, set from which your sets were created. This universal set should contain\n",
        "all elements present in A, B, and C and at least 5 that are not present in any of those sets"
      ],
      "metadata": {
        "id": "riltBElXmYPD"
      }
    },
    {
      "cell_type": "code",
      "source": [
        "SetU = {1,2,3,4,5,6,7,8,9,10,11,12,13}"
      ],
      "metadata": {
        "id": "EZlbpnJnmXPA"
      },
      "execution_count": null,
      "outputs": []
    },
    {
      "cell_type": "markdown",
      "source": [
        "(c) Compute the intersection and unions A ∪ B, A ∪ C, B ∪ C, A ∩ B, A ∩ C,and B ∩ C. Is there any\n",
        "difference in which set is called first, why or why not?"
      ],
      "metadata": {
        "id": "zOiZFKLGmeNH"
      }
    },
    {
      "cell_type": "code",
      "source": [
        "AunionB = SetA.union(SetB)\n",
        "AunionC = SetA.union(SetC)\n",
        "BunionC = SetB.union(SetC)\n",
        "\n",
        "AintersectB = SetA.intersection(SetB)\n",
        "AintersectC = SetA.intersection(SetC)\n",
        "BintersectC = SetB.intersection(SetC)\n",
        "\n",
        "print(\"Union With A&B:\", AunionB)\n",
        "print(\"Union With A&C:\", AunionC)\n",
        "print(\"Union With B&C:\", BunionC)\n",
        "\n",
        "print()\n",
        "\n",
        "print(\"Intersection With A&B:\", AintersectB)\n",
        "print(\"Intersection With A&C:\", AintersectC)\n",
        "print(\"Intersection With B&C:\", BintersectC)\n",
        "\n",
        "# For intersections and unions, there is no difference in what set is called first because unions only look at what \n",
        "#    values are contained in both sets, and intersections only look at what is in both sets."
      ],
      "metadata": {
        "colab": {
          "base_uri": "https://localhost:8080/"
        },
        "id": "IBr7HEhYiEXw",
        "outputId": "f90e5d7b-bd63-42fc-b0ce-358a448e1aa2"
      },
      "execution_count": null,
      "outputs": [
        {
          "output_type": "stream",
          "name": "stdout",
          "text": [
            "Union With A&B: {1, 2, 3, 4, 5, 6, 7, 8, 9}\n",
            "Union With A&C: {1, 2, 3, 4, 5, 9, 10, 11, 12, 13}\n",
            "Union With B&C: {5, 6, 7, 8, 9, 10, 11, 12, 13}\n",
            "\n",
            "Intersection With A&B: {5}\n",
            "Intersection With A&C: set()\n",
            "Intersection With B&C: {9}\n"
          ]
        }
      ]
    },
    {
      "cell_type": "markdown",
      "source": [
        "(d) Compute complements of each A, B, C and one more interesting one from the unions or intersections."
      ],
      "metadata": {
        "id": "dqGL4IZgncHX"
      }
    },
    {
      "cell_type": "code",
      "source": [
        "AcompB = SetA - SetB\n",
        "BcompA = SetB - SetA\n",
        "AcompC = SetA - SetC\n",
        "CcompA = SetC - SetA\n",
        "BcompC = SetB - SetC\n",
        "BcompC = SetC - SetB\n",
        "fancy = (SetA.intersection(SetB)).union(SetB.intersection(SetC))\n",
        "\n",
        "print(AcompB)\n",
        "print(BcompA)\n",
        "print(AcompC)\n",
        "print(CcompA)\n",
        "print(CcompA)\n",
        "print(BcompC)\n",
        "print(BcompC)\n",
        "print(fancy)"
      ],
      "metadata": {
        "colab": {
          "base_uri": "https://localhost:8080/"
        },
        "id": "V0QZ29zynbxJ",
        "outputId": "453d62dd-242c-4c5a-eedf-d8882b53d3a0"
      },
      "execution_count": null,
      "outputs": [
        {
          "output_type": "stream",
          "name": "stdout",
          "text": [
            "{1, 2, 3, 4}\n",
            "{8, 9, 6, 7}\n",
            "{1, 2, 3, 4, 5}\n",
            "{9, 10, 11, 12, 13}\n",
            "{9, 10, 11, 12, 13}\n",
            "{10, 11, 12, 13}\n",
            "{10, 11, 12, 13}\n",
            "{9, 5}\n"
          ]
        }
      ]
    },
    {
      "cell_type": "markdown",
      "source": [
        "(e) Are any sets subsets?"
      ],
      "metadata": {
        "id": "aojITJq7py6a"
      }
    },
    {
      "cell_type": "code",
      "source": [
        "# Other than SetA, SetB, and SetC being subsets of SetU, there are no other subsets"
      ],
      "metadata": {
        "id": "0vNalFBWp1oL"
      },
      "execution_count": null,
      "outputs": []
    },
    {
      "cell_type": "markdown",
      "source": [
        "(f) Compute a power set for set A. How many elements would the power set of U have?"
      ],
      "metadata": {
        "id": "90Bmu9xQp8FW"
      }
    },
    {
      "cell_type": "code",
      "source": [
        "#method that takes a list and creates a power list\n",
        "def power_set(s):\n",
        "    if len(s) == 0:\n",
        "        return [[]]\n",
        "    else:\n",
        "        sub_set = power_set(s[1:])\n",
        "        return sub_set + [[s[0]] + x for x in sub_set]\n",
        "\n",
        "SetA2 = [1,2,3,4,5]\n",
        "print(power_set(SetA2))\n",
        "\n",
        "\n",
        "SetU2 = [1,2,3,4,5,6,7,8,9,10,11,12,13]\n",
        "print(f'Power set U would have {len(power_set(SetU2))} elements')"
      ],
      "metadata": {
        "colab": {
          "base_uri": "https://localhost:8080/"
        },
        "id": "lvcJKKcsp7zc",
        "outputId": "8d90e1cc-67b5-403c-db27-8aa7f3b8b8c5"
      },
      "execution_count": null,
      "outputs": [
        {
          "output_type": "stream",
          "name": "stdout",
          "text": [
            "[[], [5], [4], [4, 5], [3], [3, 5], [3, 4], [3, 4, 5], [2], [2, 5], [2, 4], [2, 4, 5], [2, 3], [2, 3, 5], [2, 3, 4], [2, 3, 4, 5], [1], [1, 5], [1, 4], [1, 4, 5], [1, 3], [1, 3, 5], [1, 3, 4], [1, 3, 4, 5], [1, 2], [1, 2, 5], [1, 2, 4], [1, 2, 4, 5], [1, 2, 3], [1, 2, 3, 5], [1, 2, 3, 4], [1, 2, 3, 4, 5]]\n",
            "Power set U would have 8192 elements\n"
          ]
        }
      ]
    },
    {
      "cell_type": "markdown",
      "source": [
        "# 2. Be sure to comment on the following:"
      ],
      "metadata": {
        "id": "TvzhtD2qy6V4"
      }
    },
    {
      "cell_type": "markdown",
      "source": [
        "(a) Describe your findings in words."
      ],
      "metadata": {
        "id": "XB3N1m5Wy9UL"
      }
    },
    {
      "cell_type": "code",
      "source": [
        "# I found that programming unions, intersections, and complements in python was much easier than using ∪, ∩, and − in my head."
      ],
      "metadata": {
        "id": "GJEwnqkKzG8R"
      },
      "execution_count": null,
      "outputs": []
    },
    {
      "cell_type": "markdown",
      "source": [
        "(b) If you were unable to code something discuss what the difficulty was and why doing it by hand\n",
        "was easier"
      ],
      "metadata": {
        "id": "pOJXV6HP0QTD"
      }
    },
    {
      "cell_type": "code",
      "source": [
        "# The method to create the power list was very difficult and I had to go through some stack overflow forums to get it to work. \n",
        "# It probably would have been easier to just write it out"
      ],
      "metadata": {
        "id": "JuaM0Vsr0Tkw"
      },
      "execution_count": null,
      "outputs": []
    },
    {
      "cell_type": "markdown",
      "source": [
        "(c) Discuss the graph of your functions."
      ],
      "metadata": {
        "id": "UOuk-I3z0n1D"
      }
    },
    {
      "cell_type": "code",
      "source": [
        "# The graph can be described as a venn diagram where there are three overlapping circles where:\n",
        "#Circle SetA = {1,2,3,4}\n",
        "#Circle SetB = {5,6,7,8}\n",
        "#Circle SetC = {10,11,12,13} \n",
        "#The intersection of SetA with SetB is 4\n",
        "#The intersection of SetB and SetC is 9\n",
        "#There are no values located in the intersection of SetC and SetA"
      ],
      "metadata": {
        "id": "ziYkKvom0ptQ"
      },
      "execution_count": null,
      "outputs": []
    }
  ]
}